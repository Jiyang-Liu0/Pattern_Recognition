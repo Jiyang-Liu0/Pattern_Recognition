{
 "cells": [
  {
   "cell_type": "markdown",
   "source": [
    "Problem 2: Let’s consider the scenario described in Lecture 12, where x is drawn uniformly\n",
    "on the interval [1, 1] and y = sin(⇡x). We have n = 2 training samples: (x1, y1),(x2, y2).\n",
    "Here we will look at an alternative approach to fitting a line to our data based on “Tikhonov\n",
    "regularization”.\n",
    "(c) Estimate (numerically) the bias and variance for (at least approximations of) both of\n",
    "these estimators, and confirm that your estimates correspond to the numbers I provided\n",
    "in Lecture 13."
   ],
   "metadata": {
    "collapsed": false
   }
  },
  {
   "cell_type": "code",
   "execution_count": 16,
   "outputs": [
    {
     "name": "stdout",
     "output_type": "stream",
     "text": [
      "bias_of_avg_theta_hat: 0.5002577355538642\n",
      "avg_theta_hat: [0.02746831 0.00310861]\n",
      "avg_predictions: [0.02763696 0.02721668]\n",
      "overall_bias: 0.7520053927363686\n",
      "overall_variance: 9.510887533817765e-06\n"
     ]
    }
   ],
   "source": [
    "import numpy as np\n",
    "\n",
    "# Define the Tikhonov regularization approach\n",
    "def tikhonov_regularization(x, y, gamma):\n",
    "    A = np.vstack([np.ones_like(x), x]).T\n",
    "    # Gamma = alpha*np.eye(2)  # Regularization matrix\n",
    "    Gamma_metrix = np.zeros((2,2))\n",
    "    Gamma_metrix[1:,1:] = gamma*np.eye(1)\n",
    "    theta = np.linalg.inv(A.T @ A + Gamma_metrix.T @ Gamma_metrix) @ A.T @ y\n",
    "    return theta\n",
    "\n",
    "# Generate or load your training datasets\n",
    "def generate_datasets(n_datasets, n_samples):\n",
    "    datasets = []\n",
    "    for _ in range(n_datasets):\n",
    "        x = np.random.uniform(-1, 1, n_samples)\n",
    "        # y = np.sin(np.pi * x) + np.random.normal(0, 0.1, n_samples)  # Add noise to y\n",
    "        y = np.sin(np.pi * x)\n",
    "        datasets.append((x, y))\n",
    "    return datasets\n",
    "\n",
    "# Calculate bias\n",
    "def calc_bias(theta_hat):\n",
    "    x = np.linspace(-1, 1, 1000).reshape(1000,1)\n",
    "    x_tile = np.hstack((np.ones_like(x),x))\n",
    "    bias = np.mean((x_tile @ theta_hat-np.sin(np.pi*x))**2)\n",
    "    return bias\n",
    "\n",
    "# Define the number of datasets and samples per dataset\n",
    "n_datasets = 1000\n",
    "n_samples = 2\n",
    "gamma = 10\n",
    "\n",
    "# Generate datasets\n",
    "datasets = generate_datasets(n_datasets, n_samples)\n",
    "\n",
    "# Initialize lists to store coefficients, predictions, biases, and variances\n",
    "theta_hats_list = []\n",
    "predictions_list = []\n",
    "biases_list = []\n",
    "variances_list = []\n",
    "\n",
    "# Train the Tikhonov regularization estimator on each dataset\n",
    "for i, (x, y) in enumerate(datasets):\n",
    "    # 1. Train linear regression model\n",
    "    theta_hat = tikhonov_regularization(x, y, gamma)\n",
    "    theta_hats_list.append(theta_hat)\n",
    "\n",
    "    # 2. Predictions\n",
    "    # Transfer x to x_tile\n",
    "    x_tile = np.vstack((np.ones_like(x),x)).T\n",
    "    Y_predict = x_tile @ theta_hat\n",
    "    predictions_list.append(Y_predict)\n",
    "\n",
    "    # 3. Bias\n",
    "    # bias = np.mean((Y_predict - y)**2)\n",
    "    bias = calc_bias(theta_hat)\n",
    "    biases_list.append(bias)\n",
    "\n",
    "    # 4. Variance\n",
    "    variance = np.var(Y_predict)\n",
    "    variances_list.append(variance)\n",
    "\n",
    "# Calculate average coefficients\n",
    "avg_theta_hat = np.mean(theta_hats_list, axis=0)\n",
    "bias_of_avg_theta_hat = calc_bias(avg_theta_hat)\n",
    "\n",
    "# Calculate average predictions\n",
    "avg_predictions = np.mean(predictions_list, axis=0)\n",
    "\n",
    "# Calculate overall bias and variance\n",
    "overall_bias = np.mean(biases_list)\n",
    "overall_variance = np.mean(variances_list)\n",
    "\n",
    "print(\"bias_of_avg_theta_hat:\", bias_of_avg_theta_hat)\n",
    "print(\"avg_theta_hat:\", avg_theta_hat)\n",
    "print(\"avg_predictions:\", avg_predictions)\n",
    "\n",
    "print(\"overall_bias:\", overall_bias)\n",
    "print(\"overall_variance:\", overall_variance)"
   ],
   "metadata": {
    "collapsed": false
   }
  },
  {
   "cell_type": "code",
   "execution_count": null,
   "outputs": [],
   "source": [],
   "metadata": {
    "collapsed": false
   }
  }
 ],
 "metadata": {
  "kernelspec": {
   "display_name": "Python 3",
   "language": "python",
   "name": "python3"
  },
  "language_info": {
   "codemirror_mode": {
    "name": "ipython",
    "version": 2
   },
   "file_extension": ".py",
   "mimetype": "text/x-python",
   "name": "python",
   "nbconvert_exporter": "python",
   "pygments_lexer": "ipython2",
   "version": "2.7.6"
  }
 },
 "nbformat": 4,
 "nbformat_minor": 0
}
