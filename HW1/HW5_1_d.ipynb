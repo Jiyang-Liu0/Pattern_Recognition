{
 "cells": [
  {
   "cell_type": "markdown",
   "source": [
    "We use mean value to calculate the differential approximately"
   ],
   "metadata": {
    "collapsed": false
   }
  },
  {
   "cell_type": "code",
   "execution_count": 7,
   "outputs": [],
   "source": [
    "import numpy as np\n",
    "\n",
    "def calc_bias(avg_hypothesis):\n",
    "    x=np.random.uniform(-1,1,10000)\n",
    "    bias=np.mean((avg_hypothesis-x**2)**2)\n",
    "    return bias\n",
    "\n",
    "def calc_metrics(hypothesis):\n",
    "    avg_hypothesis=np.mean(hypothesis)\n",
    "    bias=calc_bias(avg_hypothesis)\n",
    "    variance=np.mean((hypothesis-avg_hypothesis)**2)\n",
    "    risk=bias+variance\n",
    "    return avg_hypothesis,bias,variance,risk"
   ],
   "metadata": {
    "collapsed": false
   }
  },
  {
   "cell_type": "code",
   "execution_count": 8,
   "outputs": [
    {
     "name": "stdout",
     "output_type": "stream",
     "text": [
      "Scenario (a) - Constant line h(x) = b:\n",
      "Average hypothesis: 0.33222032788657796\n",
      "Bias: 0.08963788654539513\n",
      "Variance: 0.043749727725588584\n",
      "Risk: 0.13338761427098372\n"
     ]
    }
   ],
   "source": [
    "data_x=np.random.uniform(-1,1,size=(10000,2))\n",
    "data_y=data_x**2\n",
    "\n",
    "hypothesises=(data_y[:,0]+data_y[:,1])/2\n",
    "avg_hypothesis_a, bias_a, variance_a, risk_a = calc_metrics(hypothesises)\n",
    "print(\"Scenario (a) - Constant line h(x) = b:\")\n",
    "print(\"Average hypothesis:\", avg_hypothesis_a)\n",
    "print(\"Bias:\", bias_a)\n",
    "print(\"Variance:\", variance_a)\n",
    "print(\"Risk:\", risk_a)"
   ],
   "metadata": {
    "collapsed": false
   }
  },
  {
   "cell_type": "code",
   "execution_count": 8,
   "outputs": [],
   "source": [],
   "metadata": {
    "collapsed": false
   }
  }
 ],
 "metadata": {
  "kernelspec": {
   "display_name": "Python 3",
   "language": "python",
   "name": "python3"
  },
  "language_info": {
   "codemirror_mode": {
    "name": "ipython",
    "version": 2
   },
   "file_extension": ".py",
   "mimetype": "text/x-python",
   "name": "python",
   "nbconvert_exporter": "python",
   "pygments_lexer": "ipython2",
   "version": "2.7.6"
  }
 },
 "nbformat": 4,
 "nbformat_minor": 0
}
