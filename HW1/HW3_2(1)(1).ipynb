{
 "cells": [
  {
   "cell_type": "code",
   "execution_count": 3,
   "metadata": {
    "collapsed": true
   },
   "outputs": [],
   "source": [
    "import numpy as np\n",
    "import matplotlib.pyplot as plt\n",
    "import math\n",
    "from scipy.io import loadmat\n",
    "\n",
    "def load_data(file_name):\n",
    "    mat_data = loadmat(f'dataLDA/{file_name}.mat')\n",
    "\n",
    "    x_array = mat_data['X']\n",
    "    y_array = mat_data['Y']\n",
    "\n",
    "    x_numpy_array = np.array(x_array)\n",
    "    y_numpy_array = np.array(y_array, dtype=int)\n",
    "    # Transfer 0 to -1, meet PLA iteration requirement\n",
    "    y_numpy_array[0,training_y[0,:] == 0] = -1\n",
    "    return x_numpy_array, y_numpy_array\n",
    "\n",
    "def load_data_5d(file_name, x_key, y_key):\n",
    "    mat_data = loadmat(f'dataLDA/{file_name}.mat')\n",
    "\n",
    "    x_array = mat_data[x_key]\n",
    "    y_array = mat_data[y_key]\n",
    "\n",
    "    x_numpy_array = np.array(x_array)\n",
    "    y_numpy_array = np.array(y_array, dtype=int)\n",
    "    return x_numpy_array, y_numpy_array\n",
    "\n",
    "def calc_x_tilde(training_x):\n",
    "    new_row = np.ones((1, training_x.shape[1]), dtype=int)\n",
    "    new_matrix = np.insert(training_x, 0, new_row, axis=0)\n",
    "    return new_matrix\n",
    "\n",
    "def calc_minus_l(training_x_tilde, training_y,theta):\n",
    "    n=training_y.shape[1]\n",
    "    l = 0\n",
    "    for i in range(n):\n",
    "        l += training_y[0,i]*np.dot(theta,training_x_tilde[:,i])-np.log(1+np.exp(-np.dot(theta,training_x_tilde[:,i])))\n",
    "    return -l\n",
    "\n",
    "# 改的函数 49行\n",
    "def calc_gradient_decent(training_x_tilde,training_y,theta,epsilon,iteration_max):\n",
    "    n = training_y.shape[1]\n",
    "    l_history = np.zeros(iteration_max)\n",
    "    delta_l_history =np.zeros(iteration_max)\n",
    "    number = 0\n",
    "    for number in range(iteration_max):\n",
    "        i = np.mod(number, n)\n",
    "        # l = calc_minus_l(training_x_tilde, training_y,theta)\n",
    "        # l_history[i] = l\n",
    "\n",
    "        value = np.dot(theta,training_x_tilde[:,i])\n",
    "        # theta = theta + np.dot(((training_y[0,i]-np.sign(value))*0.5),training_x_tilde[:,i])\n",
    "        theta = theta + ((training_y[0,i]-np.sign(value))*0.5) * training_x_tilde[:,i]\n",
    "        # number = i\n",
    "\n",
    "    return l_history, theta,delta_l_history,number\n",
    "\n",
    "def Gradient_Descent_classifier(theta,testing_x):\n",
    "    testing_x_tilde=np.insert(testing_x, 0, 1)\n",
    "    value = np.dot(theta,testing_x_tilde)\n",
    "    return np.sign(value)\n",
    "\n",
    "def Gradient_Descent_classifier_function(theta,x):\n",
    "    return -theta[0]/theta[2]-theta[1]*x/theta[2]\n"
   ]
  },
  {
   "cell_type": "code",
   "execution_count": 4,
   "outputs": [
    {
     "ename": "NameError",
     "evalue": "name 'training_y' is not defined",
     "output_type": "error",
     "traceback": [
      "\u001B[1;31m---------------------------------------------------------------------------\u001B[0m",
      "\u001B[1;31mNameError\u001B[0m                                 Traceback (most recent call last)",
      "Cell \u001B[1;32mIn[4], line 2\u001B[0m\n\u001B[0;32m      1\u001B[0m file_name \u001B[38;5;241m=\u001B[39m \u001B[38;5;124m'\u001B[39m\u001B[38;5;124msynthetic1\u001B[39m\u001B[38;5;124m'\u001B[39m\n\u001B[1;32m----> 2\u001B[0m training_x, training_y \u001B[38;5;241m=\u001B[39m \u001B[43mload_data\u001B[49m\u001B[43m(\u001B[49m\u001B[43mfile_name\u001B[49m\u001B[43m)\u001B[49m\n\u001B[0;32m      3\u001B[0m d \u001B[38;5;241m=\u001B[39m training_x\u001B[38;5;241m.\u001B[39mshape[\u001B[38;5;241m0\u001B[39m]\n\u001B[0;32m      4\u001B[0m n \u001B[38;5;241m=\u001B[39m training_x\u001B[38;5;241m.\u001B[39mshape[\u001B[38;5;241m1\u001B[39m]\n",
      "Cell \u001B[1;32mIn[3], line 15\u001B[0m, in \u001B[0;36mload_data\u001B[1;34m(file_name)\u001B[0m\n\u001B[0;32m     13\u001B[0m y_numpy_array \u001B[38;5;241m=\u001B[39m np\u001B[38;5;241m.\u001B[39marray(y_array, dtype\u001B[38;5;241m=\u001B[39m\u001B[38;5;28mint\u001B[39m)\n\u001B[0;32m     14\u001B[0m \u001B[38;5;66;03m# Transfer 0 to -1, meet PLA iteration requirement\u001B[39;00m\n\u001B[1;32m---> 15\u001B[0m y_numpy_array[\u001B[38;5;241m0\u001B[39m,\u001B[43mtraining_y\u001B[49m[\u001B[38;5;241m0\u001B[39m,:] \u001B[38;5;241m==\u001B[39m \u001B[38;5;241m0\u001B[39m] \u001B[38;5;241m=\u001B[39m \u001B[38;5;241m-\u001B[39m\u001B[38;5;241m1\u001B[39m\n\u001B[0;32m     16\u001B[0m \u001B[38;5;28;01mreturn\u001B[39;00m x_numpy_array, y_numpy_array\n",
      "\u001B[1;31mNameError\u001B[0m: name 'training_y' is not defined"
     ]
    }
   ],
   "source": [
    "file_name = 'synthetic1'\n",
    "training_x, training_y = load_data(file_name)\n",
    "d = training_x.shape[0]\n",
    "n = training_x.shape[1]\n",
    "theta = np.zeros(d+1)\n",
    "epsilon = 0.01\n",
    "iteration_max = 5000\n",
    "training_x_tilde = calc_x_tilde(training_x)\n",
    "\n",
    "l_history, theta ,delta_l_history,iteration_time= calc_gradient_decent(training_x_tilde,training_y,theta,epsilon,iteration_max)\n",
    "\n",
    "training_y_hat = np.zeros(n)\n",
    "for i in range(n):\n",
    "    training_y_hat[i] = Gradient_Descent_classifier(theta,training_x[:,i])\n",
    "\n",
    "risk = np.sum(training_y_hat != training_y[0,:])/n\n",
    "plt.plot(range(iteration_max), delta_l_history)\n",
    "plt.xlabel('Iterations')\n",
    "plt.ylabel('Cost')\n",
    "plt.title('Gradient Descent')\n",
    "plt.show()\n",
    "print('theta = ',theta)\n",
    "print('iteration_time = ',iteration_time)\n",
    "print('risk:',risk)\n"
   ],
   "metadata": {
    "collapsed": false
   }
  },
  {
   "cell_type": "code",
   "execution_count": null,
   "outputs": [],
   "source": [
    "from scipy.io import loadmat\n",
    "import numpy as np\n",
    "\n",
    "# Load the MATLAB file\n",
    "mat_data = loadmat('dataLDA/synthetic1.mat')\n",
    "\n",
    "# Access variables in the MATLAB file\n",
    "# The variables are stored as keys in the dictionary\n",
    "for key in mat_data:\n",
    "   print(key)   # Print the variable names\n",
    "\n",
    "# Access a specific variable from the MATLAB file\n",
    "x_array = mat_data['X']\n",
    "y_array = mat_data['Y']\n",
    "\n",
    "# Convert the MATLAB variable to a NumPy array\n",
    "x_numpy_array = np.array(x_array)\n",
    "y_numpy_array = np.array(y_array)\n",
    "\n",
    "# Perform some operations on the array\n",
    "mean_value = np.mean(y_numpy_array)\n",
    "max_value = np.max(y_numpy_array)\n",
    "\n",
    "# Prepare coordinate data\n",
    "x0 = x_numpy_array[0]\n",
    "x1 = x_numpy_array[1]\n",
    "y = y_numpy_array[0]\n",
    "\n",
    "for i in range(2):\n",
    "    plt.scatter(x0[y == i], x1[y == i], label=f'y={i}', alpha=0.8)\n",
    "plt.legend()\n",
    "plt.xlabel('X')\n",
    "plt.ylabel('Y')\n",
    "plt.title('3D Data on 2D Coordinate System (Symbol Mapping)')\n",
    "# plt.show()\n",
    "\n",
    "x_value=np.linspace(-1,2,500);\n",
    "g1_value=[Gradient_Descent_classifier_function(theta,x) for x in x_value]\n",
    "plt.plot(x_value,g1_value,label='PLA_classifier',color='r');\n",
    "plt.legend()\n",
    "plt.show()"
   ],
   "metadata": {
    "collapsed": false
   }
  },
  {
   "cell_type": "code",
   "execution_count": null,
   "outputs": [],
   "source": [],
   "metadata": {
    "collapsed": false
   }
  }
 ],
 "metadata": {
  "kernelspec": {
   "display_name": "Python 3",
   "language": "python",
   "name": "python3"
  },
  "language_info": {
   "codemirror_mode": {
    "name": "ipython",
    "version": 2
   },
   "file_extension": ".py",
   "mimetype": "text/x-python",
   "name": "python",
   "nbconvert_exporter": "python",
   "pygments_lexer": "ipython2",
   "version": "2.7.6"
  }
 },
 "nbformat": 4,
 "nbformat_minor": 0
}
