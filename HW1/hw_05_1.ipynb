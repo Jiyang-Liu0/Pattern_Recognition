{
 "cells": [
  {
   "cell_type": "markdown",
   "source": [
    "c. Now simulate this. Explicitly, numerically estimate average hypothesis, the bias, the\n",
    "variance and ¯h(x)\n",
    "\n",
    "d. Now consider a line of the form h(x) = ax + b which we fit by selecting the line the\n",
    "passes through our two observations. Modify the code from part (d) to estimate the\n",
    "new ¯h(x), bias, variance, and risk. Explain how the results change and why."
   ],
   "metadata": {
    "collapsed": false
   }
  },
  {
   "cell_type": "code",
   "execution_count": 21,
   "outputs": [
    {
     "name": "stdout",
     "output_type": "stream",
     "text": [
      "Scenario (a) - Constant line h(x) = b:\n",
      "Average hypothesis: 0.3308525683204556\n",
      "Bias: 0.08558709553270702\n",
      "Variance: 0.04487360762821615\n",
      "Risk: 0.13046070316092317\n",
      "\n",
      "Scenario (e) - Line of the form h(x) = ax + b passing through two observations:\n",
      "Average hypothesis: h_bar(x) = -0.0016747235833318263x + 0.0035565183954722477\n"
     ]
    }
   ],
   "source": [
    "import numpy as np\n",
    "\n",
    "def calculate_bias(avg_hypothesis):\n",
    "    x = np.random.uniform(-1, 1, 1000)\n",
    "    bias = np.mean((avg_hypothesis - x**2)**2)\n",
    "    return bias\n",
    "\n",
    "# Function to calculate the average hypothesis, bias, and variance\n",
    "def calculate_metrics(data):\n",
    "    # Calculate average hypothesis\n",
    "    avg_hypothesis = np.mean(data)\n",
    "\n",
    "    # Calculate bias\n",
    "    # bias = np.mean((avg_hypothesis - data)**2)\n",
    "    bias = calculate_bias(avg_hypothesis)\n",
    "\n",
    "    # Calculate variance\n",
    "    variance = np.mean((data - avg_hypothesis)**2)\n",
    "\n",
    "    # Calculate risk\n",
    "    risk = bias + variance\n",
    "\n",
    "    return avg_hypothesis, bias, variance, risk\n",
    "\n",
    "def hypothesis_func(a, b, x):\n",
    "    return a * x + b\n",
    "\n",
    "# Function to calculate the average hypothesis, bias, and variance\n",
    "def calculate_metrics_b(data,a, b):\n",
    "    # Calculate average hypothesis\n",
    "    avg_hypothesis = np.mean(a, b, data[:, 0])\n",
    "\n",
    "    # Calculate bias\n",
    "    # bias = np.mean((avg_hypothesis - data)**2)\n",
    "    bias = calculate_bias(avg_hypothesis)\n",
    "\n",
    "    # Calculate variance\n",
    "    variance = np.mean((data - avg_hypothesis)**2)\n",
    "\n",
    "    # Calculate risk\n",
    "    risk = bias + variance\n",
    "\n",
    "    return avg_hypothesis, bias, variance, risk\n",
    "\n",
    "# Scenario (a) - Constant line h(x) = b\n",
    "# Generate random data\n",
    "data_x = np.random.uniform(-1, 1, size=(10000, 2))\n",
    "data_y = data_x**2\n",
    "\n",
    "hypotheses_a = (data_y[:, 0] + data_y[:, 1]) / 2\n",
    "\n",
    "# Calculate metrics for scenario (a)\n",
    "avg_hypothesis_a, bias_a, variance_a, risk_a = calculate_metrics(hypotheses_a)\n",
    "\n",
    "print(\"Scenario (a) - Constant line h(x) = b:\")\n",
    "print(\"Average hypothesis:\", avg_hypothesis_a)\n",
    "print(\"Bias:\", bias_a)\n",
    "print(\"Variance:\", variance_a)\n",
    "print(\"Risk:\", risk_a)\n",
    "print()\n",
    "\n",
    "# Scenario (e) - Line of the form h(x) = ax + b passing through two observations\n",
    "# Fit the line passing through two observations\n",
    "data_a = np.random.uniform(-1, 1, size=(10000, 2))\n",
    "x1, y1 = data_a[:, 0], data_a[:, 0]**2\n",
    "x2, y2 = data_a[:, 1], data_a[:, 1]**2\n",
    "\n",
    "a = (y1 - y2) / (x1 - x2)\n",
    "b = y1 - a * x1\n",
    "# b = 0.5*((y1 + y2) - a*(x1 + x2))\n",
    "avg_a = np.mean(a)\n",
    "avg_b = np.mean(b)\n",
    "# hypotheses_e = a * x1 + b\n",
    "\n",
    "# Calculate metrics for scenario (e)\n",
    "avg_hypothesis_e, bias_e, variance_e, risk_e = calculate_metrics_b(data_a, a, b)\n",
    "\n",
    "print(\"Scenario (e) - Line of the form h(x) = ax + b passing through two observations:\")\n",
    "print(f\"Average hypothesis: h_bar(x) = {avg_a}x + {avg_b}\", )\n",
    "# print(\"Bias:\", bias_e)\n",
    "# print(\"Variance:\", variance_e)\n",
    "# print(\"Risk:\", risk_e)\n"
   ],
   "metadata": {
    "collapsed": false
   }
  },
  {
   "cell_type": "code",
   "execution_count": null,
   "outputs": [],
   "source": [],
   "metadata": {
    "collapsed": false
   }
  }
 ],
 "metadata": {
  "kernelspec": {
   "display_name": "Python 3",
   "language": "python",
   "name": "python3"
  },
  "language_info": {
   "codemirror_mode": {
    "name": "ipython",
    "version": 2
   },
   "file_extension": ".py",
   "mimetype": "text/x-python",
   "name": "python",
   "nbconvert_exporter": "python",
   "pygments_lexer": "ipython2",
   "version": "2.7.6"
  }
 },
 "nbformat": 4,
 "nbformat_minor": 0
}
