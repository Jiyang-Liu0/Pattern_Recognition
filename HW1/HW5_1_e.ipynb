{
 "cells": [
  {
   "cell_type": "code",
   "execution_count": 2,
   "metadata": {
    "collapsed": true
   },
   "outputs": [],
   "source": [
    "import numpy as np\n",
    "\n",
    "def calc_bias(avg_hypothesis_a,avg_hypothesis_b):\n",
    "    x = np.random.uniform(-1, 1, 10000)\n",
    "    bias = np.mean((avg_hypothesis_a*x+avg_hypothesis_b - x ** 2) ** 2)\n",
    "    return bias\n",
    "\n",
    "def calc_metrics(hypothesises_a,hypothesises_b,data_x):\n",
    "    avg_hypothesis_a=np.mean(hypothesises_a)\n",
    "    avg_hypothesis_b=np.mean(hypothesises_b)\n",
    "    bias = calc_bias(avg_hypothesis_a,avg_hypothesis_b)\n",
    "    variance = 0.5*(np.mean(((hypothesises_a*data_x[:,0]+hypothesises_b)-(avg_hypothesis_a*data_x[:,0]+avg_hypothesis_b)) ** 2)+np.mean(((hypothesises_a*data_x[:,1]+hypothesises_b)-(avg_hypothesis_a*data_x[:,1]+avg_hypothesis_b)) ** 2))\n",
    "    risk = bias + variance\n",
    "    return avg_hypothesis_a,avg_hypothesis_b, bias, variance, risk"
   ]
  },
  {
   "cell_type": "code",
   "execution_count": 4,
   "outputs": [
    {
     "name": "stdout",
     "output_type": "stream",
     "text": [
      "Scenario (b) - linear line h(x) = ax+b:\n",
      "Average hypothesis a: -0.008069736345342441\n",
      "Average hypothesis b: 0.0052214178466595375\n",
      "Bias: 0.19466450093153284\n",
      "Variance: 0.19786874186841863\n",
      "Risk: 0.3925332427999515\n"
     ]
    }
   ],
   "source": [
    "data_x = np.random.uniform(-1, 1, size=(10000, 2))\n",
    "data_y = data_x ** 2\n",
    "\n",
    "# hypothesises_a = (data_y[:, 0] - data_y[:, 1]) / (data_x[:, 0] - data_x[:, 1])\n",
    "hypothesises_a = data_x[:, 0] + data_x[:, 1]\n",
    "# hypothesises_b = data_y[:, 0] -hypothesises_a*data_x[:, 0]\n",
    "hypothesises_b = ((data_y[:, 0] + data_y[:, 1]) - hypothesises_a*(data_x[:, 0] + data_x[:, 1]))*0.5\n",
    "\n",
    "avg_hypothesis_a, avg_hypothesis_b,bias, variance, risk = calc_metrics(hypothesises_a,hypothesises_b,data_x)\n",
    "print(\"Scenario (b) - linear line h(x) = ax+b:\")\n",
    "print(\"Average hypothesis a:\", avg_hypothesis_a)\n",
    "print(\"Average hypothesis b:\", avg_hypothesis_b)\n",
    "print(\"Bias:\", bias)\n",
    "print(\"Variance:\", variance)\n",
    "print(\"Risk:\", risk)"
   ],
   "metadata": {
    "collapsed": false
   }
  },
  {
   "cell_type": "code",
   "execution_count": null,
   "outputs": [],
   "source": [],
   "metadata": {
    "collapsed": false
   }
  }
 ],
 "metadata": {
  "kernelspec": {
   "display_name": "Python 3",
   "language": "python",
   "name": "python3"
  },
  "language_info": {
   "codemirror_mode": {
    "name": "ipython",
    "version": 2
   },
   "file_extension": ".py",
   "mimetype": "text/x-python",
   "name": "python",
   "nbconvert_exporter": "python",
   "pygments_lexer": "ipython2",
   "version": "2.7.6"
  }
 },
 "nbformat": 4,
 "nbformat_minor": 0
}
